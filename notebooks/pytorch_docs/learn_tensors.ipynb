{
 "cells": [
  {
   "cell_type": "code",
   "execution_count": 20,
   "id": "64265cb1",
   "metadata": {},
   "outputs": [],
   "source": [
    "import torch\n",
    "import torch_directml as dml\n",
    "import numpy as np"
   ]
  },
  {
   "cell_type": "markdown",
   "id": "462cf696",
   "metadata": {},
   "source": [
    "Tensors can be created directly from data:"
   ]
  },
  {
   "cell_type": "code",
   "execution_count": 3,
   "id": "edf33a6c",
   "metadata": {},
   "outputs": [
    {
     "data": {
      "text/plain": [
       "tensor([[1, 2],\n",
       "        [3, 4]])"
      ]
     },
     "execution_count": 3,
     "metadata": {},
     "output_type": "execute_result"
    }
   ],
   "source": [
    "\n",
    "\n",
    "data = [[1, 2], [3, 4]]\n",
    "x_data = torch.tensor(data)\n",
    "x_data"
   ]
  },
  {
   "cell_type": "markdown",
   "id": "56840531",
   "metadata": {},
   "source": [
    "Tensors can be created from numpy arrays and vice versa:"
   ]
  },
  {
   "cell_type": "code",
   "execution_count": 4,
   "id": "eed02847",
   "metadata": {},
   "outputs": [
    {
     "data": {
      "text/plain": [
       "tensor([[1, 2],\n",
       "        [3, 4]])"
      ]
     },
     "execution_count": 4,
     "metadata": {},
     "output_type": "execute_result"
    }
   ],
   "source": [
    "np_array = np.array(data)\n",
    "x_np = torch.from_numpy(np_array)\n",
    "x_np"
   ]
  },
  {
   "cell_type": "markdown",
   "id": "03c691a3",
   "metadata": {},
   "source": [
    "You can also create a tenser based on another tensor, resulting in the same shape:"
   ]
  },
  {
   "cell_type": "code",
   "execution_count": 5,
   "id": "9714db71",
   "metadata": {},
   "outputs": [
    {
     "name": "stdout",
     "output_type": "stream",
     "text": [
      "Ones tensor: \n",
      " tensor([[1, 1],\n",
      "        [1, 1]])\n",
      "Random tensor: \n",
      " tensor([[0.6241, 0.1263],\n",
      "        [0.2534, 0.7324]])\n"
     ]
    }
   ],
   "source": [
    "x_ones = torch.ones_like(x_data)\n",
    "print(f\"Ones tensor: \\n {x_ones}\")\n",
    "x_rand = torch.rand_like(x_data, dtype=torch.float)\n",
    "print(f\"Random tensor: \\n {x_rand}\")"
   ]
  },
  {
   "cell_type": "markdown",
   "id": "b7eebe87",
   "metadata": {},
   "source": [
    "You can also create tensors from a shape:"
   ]
  },
  {
   "cell_type": "code",
   "execution_count": 6,
   "id": "6580a594",
   "metadata": {},
   "outputs": [
    {
     "name": "stdout",
     "output_type": "stream",
     "text": [
      "Random tensor: \n",
      " tensor([[0.2242, 0.0662, 0.2144],\n",
      "        [0.6222, 0.1389, 0.9044]])\n",
      "Ones tensor: \n",
      " tensor([[1., 1., 1.],\n",
      "        [1., 1., 1.]])\n",
      "Zeroes tensor: \n",
      " tensor([[0., 0., 0.],\n",
      "        [0., 0., 0.]])\n"
     ]
    }
   ],
   "source": [
    "shape = (2, 3)\n",
    "rand_tensor = torch.rand(shape)\n",
    "ones_tensor = torch.ones(shape)\n",
    "zeros_tensor = torch.zeros(shape)\n",
    "\n",
    "print(f\"Random tensor: \\n {rand_tensor}\")\n",
    "print(f\"Ones tensor: \\n {ones_tensor}\")\n",
    "print(f\"Zeroes tensor: \\n {zeros_tensor}\")"
   ]
  },
  {
   "cell_type": "markdown",
   "id": "07e6b04b",
   "metadata": {},
   "source": [
    "Tensor attribute\n",
    "Tensor attributes describe their shape, datatype, and the device on which they are stored. \n"
   ]
  },
  {
   "cell_type": "code",
   "execution_count": 7,
   "id": "c0e6ae0f",
   "metadata": {},
   "outputs": [
    {
     "name": "stdout",
     "output_type": "stream",
     "text": [
      "tensor([[0.6125, 0.5443, 0.6869, 0.0345, 0.4593],\n",
      "        [0.0123, 0.3976, 0.3526, 0.3281, 0.1637],\n",
      "        [0.3090, 0.7534, 0.1127, 0.9669, 0.2918],\n",
      "        [0.6423, 0.6696, 0.9388, 0.5034, 0.4191],\n",
      "        [0.6763, 0.9091, 0.2112, 0.7167, 0.6113]])\n",
      "Shape of tensor: torch.Size([5, 5])\n",
      "Datatype of tensor: torch.float32\n",
      "Device tensor is stored on: cpu\n"
     ]
    }
   ],
   "source": [
    "tensor = torch.rand(5, 5)\n",
    "\n",
    "print(tensor)\n",
    "print(f\"Shape of tensor: {tensor.shape}\")\n",
    "print(f\"Datatype of tensor: {tensor.dtype}\")\n",
    "print(f\"Device tensor is stored on: {tensor.device}\")"
   ]
  },
  {
   "cell_type": "markdown",
   "id": "c7131e34",
   "metadata": {},
   "source": [
    "Tensor Operations\n",
    "Over 100 tensor operations, including arithmetic, linear algebra, matrix manipulation (transposing, etc.), sampling and more are\n",
    "available. You can find the full list here. https://pytorch.org/docs/stable/torch.html\n",
    "\n",
    "Each of them can be run on the GPU"
   ]
  },
  {
   "cell_type": "code",
   "execution_count": 21,
   "id": "26f3ff6e",
   "metadata": {},
   "outputs": [
    {
     "name": "stdout",
     "output_type": "stream",
     "text": [
      "privateuseone:0\n",
      "Tensor is stored on: privateuseone:0\n",
      "DML device count: 1\n",
      "0: Intel(R) Iris(R) Xe Graphics\u0000\n"
     ]
    }
   ],
   "source": [
    "d = dml.device()\n",
    "print(d)\n",
    "tensor = tensor.to(d)\n",
    "print(f\"Tensor is stored on: {tensor.device}\")\n",
    "\n",
    "\n",
    "print(\"DML device count:\", dml.device_count())\n",
    "# Try to print adapter names if your build exposes it:\n",
    "for i in range(dml.device_count()):\n",
    "    try:\n",
    "        print(f\"{i}: {dml.device_name(i)}\")\n",
    "    except Exception:\n",
    "        print(f\"{i}: (name API not available in this build)\")\n",
    "\n",
    "# IF the pc has a Nvidia GPU:\n",
    "# if torch.cuda.is_available():\n",
    "#     tensor = tensor.to('cuda')\n",
    "#     print(f\"Tensor is stored on: {tensor.device}\")"
   ]
  },
  {
   "cell_type": "code",
   "execution_count": 43,
   "id": "a7a186f1",
   "metadata": {},
   "outputs": [
    {
     "name": "stdout",
     "output_type": "stream",
     "text": [
      "tensor([[1., 0., 1., 1.],\n",
      "        [1., 0., 1., 1.],\n",
      "        [1., 0., 1., 1.],\n",
      "        [1., 0., 1., 1.]])\n"
     ]
    }
   ],
   "source": [
    "tensor = torch.ones(4, 4)\n",
    "tensor[:,1] = 0\n",
    "print(tensor)"
   ]
  },
  {
   "cell_type": "code",
   "execution_count": 41,
   "id": "8900dcfc",
   "metadata": {},
   "outputs": [
    {
     "name": "stdout",
     "output_type": "stream",
     "text": [
      "tensor([[1., 0., 1., 1., 1., 0., 1., 1., 1., 0., 1., 1.],\n",
      "        [1., 0., 1., 1., 1., 0., 1., 1., 1., 0., 1., 1.],\n",
      "        [1., 0., 1., 1., 1., 0., 1., 1., 1., 0., 1., 1.],\n",
      "        [1., 0., 1., 1., 1., 0., 1., 1., 1., 0., 1., 1.]])\n",
      "tensor([[[1., 0., 1., 1.],\n",
      "         [1., 0., 1., 1.],\n",
      "         [1., 0., 1., 1.],\n",
      "         [1., 0., 1., 1.]],\n",
      "\n",
      "        [[1., 0., 1., 1.],\n",
      "         [1., 0., 1., 1.],\n",
      "         [1., 0., 1., 1.],\n",
      "         [1., 0., 1., 1.]],\n",
      "\n",
      "        [[1., 0., 1., 1.],\n",
      "         [1., 0., 1., 1.],\n",
      "         [1., 0., 1., 1.],\n",
      "         [1., 0., 1., 1.]]])\n"
     ]
    }
   ],
   "source": [
    "t1 = torch.cat([tensor, tensor, tensor], dim=1)\n",
    "print(t1)\n",
    "\n",
    "t2 = torch.stack([tensor, tensor, tensor], dim=0)\n",
    "print(t2)"
   ]
  },
  {
   "cell_type": "code",
   "execution_count": null,
   "id": "ff1dbd7d",
   "metadata": {},
   "outputs": [
    {
     "name": "stdout",
     "output_type": "stream",
     "text": [
      "tensor([[0.0502, 0.0044, 0.0460],\n",
      "        [0.3871, 0.0193, 0.8180]])\n",
      "tensor([[0.0502, 0.0044, 0.0460],\n",
      "        [0.3871, 0.0193, 0.8180]])\n"
     ]
    }
   ],
   "source": [
    "# Tensor multiplication: Element-wise product\n",
    "print(rand_tensor.mul(rand_tensor))\n",
    "print(rand_tensor*rand_tensor)"
   ]
  },
  {
   "cell_type": "code",
   "execution_count": 50,
   "id": "9f5e4acb",
   "metadata": {},
   "outputs": [
    {
     "name": "stdout",
     "output_type": "stream",
     "text": [
      "tensor([[0.1006, 0.3426],\n",
      "        [0.3426, 1.2244]])\n",
      "tensor([[0.1006, 0.3426],\n",
      "        [0.3426, 1.2244]])\n",
      "tensor([[3., 3., 3., 3.],\n",
      "        [3., 3., 3., 3.],\n",
      "        [3., 3., 3., 3.],\n",
      "        [3., 3., 3., 3.]])\n"
     ]
    }
   ],
   "source": [
    "# Tensor matrix multiplication:\n",
    "print(rand_tensor.matmul(rand_tensor.T))\n",
    "print(rand_tensor @ rand_tensor.T)\n",
    "print(tensor.matmul(tensor.T))"
   ]
  }
 ],
 "metadata": {
  "kernelspec": {
   "display_name": ".venv",
   "language": "python",
   "name": "python3"
  },
  "language_info": {
   "codemirror_mode": {
    "name": "ipython",
    "version": 3
   },
   "file_extension": ".py",
   "mimetype": "text/x-python",
   "name": "python",
   "nbconvert_exporter": "python",
   "pygments_lexer": "ipython3",
   "version": "3.12.11"
  }
 },
 "nbformat": 4,
 "nbformat_minor": 5
}
