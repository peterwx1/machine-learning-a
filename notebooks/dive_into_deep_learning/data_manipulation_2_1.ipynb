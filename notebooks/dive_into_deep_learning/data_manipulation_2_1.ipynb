{
 "cells": [
  {
   "cell_type": "code",
   "execution_count": 2,
   "id": "150f3250",
   "metadata": {},
   "outputs": [],
   "source": [
    "import torch"
   ]
  },
  {
   "cell_type": "code",
   "execution_count": 6,
   "id": "6d1883c3",
   "metadata": {},
   "outputs": [
    {
     "data": {
      "text/plain": [
       "tensor([ 0.,  1.,  2.,  3.,  4.,  5.,  6.,  7.,  8.,  9., 10., 11.])"
      ]
     },
     "execution_count": 6,
     "metadata": {},
     "output_type": "execute_result"
    }
   ],
   "source": [
    "#Prepopulate a tensor with evenly spaced values starting at 0, 12 not included\n",
    "x = torch.arange(12, dtype=torch.float32)\n",
    "x"
   ]
  },
  {
   "cell_type": "code",
   "execution_count": 7,
   "id": "292561ee",
   "metadata": {},
   "outputs": [
    {
     "data": {
      "text/plain": [
       "12"
      ]
     },
     "execution_count": 7,
     "metadata": {},
     "output_type": "execute_result"
    }
   ],
   "source": [
    "#inspect how many elements are in a tensor\n",
    "x.numel()"
   ]
  },
  {
   "cell_type": "code",
   "execution_count": null,
   "id": "02068ae6",
   "metadata": {},
   "outputs": [
    {
     "data": {
      "text/plain": [
       "torch.Size([12])"
      ]
     },
     "execution_count": 9,
     "metadata": {},
     "output_type": "execute_result"
    }
   ],
   "source": [
    "#Find the shape of a tensor:\n",
    "x.shape\n",
    "#OBS since this is a vetor we get the size returned"
   ]
  },
  {
   "cell_type": "code",
   "execution_count": 11,
   "id": "d6af4ea2",
   "metadata": {},
   "outputs": [
    {
     "data": {
      "text/plain": [
       "tensor([[ 0.,  1.,  2.,  3.],\n",
       "        [ 4.,  5.,  6.,  7.],\n",
       "        [ 8.,  9., 10., 11.]])"
      ]
     },
     "execution_count": 11,
     "metadata": {},
     "output_type": "execute_result"
    }
   ],
   "source": [
    "#We can change the shape of a tensor without altering its size or values\n",
    "X = x.reshape(3, 4)\n",
    "X"
   ]
  },
  {
   "cell_type": "code",
   "execution_count": null,
   "id": "6f63e737",
   "metadata": {},
   "outputs": [
    {
     "name": "stdout",
     "output_type": "stream",
     "text": [
      "tensor(3.) tensor(3.)\n"
     ]
    }
   ],
   "source": [
    "#Notice that the elements of our vector are laid out one row at a time and thus x[3] == X[0, 3]\n",
    "print(x[3], X[0,3])"
   ]
  },
  {
   "cell_type": "markdown",
   "id": "77ef1231",
   "metadata": {},
   "source": [
    "Note that specifying every shape component to reshape is redundant. Because we already know our tensor’s size, we can work out one component of the shape given the rest. For example, given a tensor of size n and target shape ( h, w), we know that w = n / h.\n",
    "\n",
    "To automatically infer one component of the shape, we can place a -1 for the shape component that should be inferred automatically. In our case, instead of calling x.reshape(3, 4), we could have equivalently called x.reshape(-1, 4) or x.reshape(3, -1)."
   ]
  },
  {
   "cell_type": "code",
   "execution_count": 13,
   "id": "45d1a3b2",
   "metadata": {},
   "outputs": [
    {
     "data": {
      "text/plain": [
       "tensor([[ 0.,  1.,  2.,  3.],\n",
       "        [ 4.,  5.,  6.,  7.],\n",
       "        [ 8.,  9., 10., 11.]])"
      ]
     },
     "execution_count": 13,
     "metadata": {},
     "output_type": "execute_result"
    }
   ],
   "source": [
    "Y = x.reshape(-1, 4)\n",
    "Y"
   ]
  },
  {
   "cell_type": "markdown",
   "id": "7880eb40",
   "metadata": {},
   "source": [
    "its also possible to make standard tensors"
   ]
  },
  {
   "cell_type": "code",
   "execution_count": 19,
   "id": "89720793",
   "metadata": {},
   "outputs": [
    {
     "data": {
      "text/plain": [
       "tensor([[[0., 0., 0., 0.],\n",
       "         [0., 0., 0., 0.],\n",
       "         [0., 0., 0., 0.]],\n",
       "\n",
       "        [[0., 0., 0., 0.],\n",
       "         [0., 0., 0., 0.],\n",
       "         [0., 0., 0., 0.]]])"
      ]
     },
     "execution_count": 19,
     "metadata": {},
     "output_type": "execute_result"
    }
   ],
   "source": [
    "# 2 Dimensional tensor: 2 blocks, 3 rows, 4 columns\n",
    "torch.zeros((2, 3, 4))"
   ]
  },
  {
   "cell_type": "code",
   "execution_count": 20,
   "id": "2d0fba42",
   "metadata": {},
   "outputs": [
    {
     "data": {
      "text/plain": [
       "tensor([[[1., 1., 1., 1.],\n",
       "         [1., 1., 1., 1.],\n",
       "         [1., 1., 1., 1.]],\n",
       "\n",
       "        [[1., 1., 1., 1.],\n",
       "         [1., 1., 1., 1.],\n",
       "         [1., 1., 1., 1.]]])"
      ]
     },
     "execution_count": 20,
     "metadata": {},
     "output_type": "execute_result"
    }
   ],
   "source": [
    "torch.ones((2, 3, 4))"
   ]
  },
  {
   "cell_type": "code",
   "execution_count": null,
   "id": "7957a122",
   "metadata": {},
   "outputs": [
    {
     "data": {
      "text/plain": [
       "tensor([[[0.7985, 0.0702, 0.1634, 0.7648],\n",
       "         [0.8010, 0.8347, 0.2128, 0.8033],\n",
       "         [0.8026, 0.2760, 0.6324, 0.5565]],\n",
       "\n",
       "        [[0.1171, 0.6661, 0.6897, 0.4213],\n",
       "         [0.2392, 0.1888, 0.0683, 0.7039],\n",
       "         [0.9754, 0.1991, 0.8703, 0.6499]]])"
      ]
     },
     "execution_count": 24,
     "metadata": {},
     "output_type": "execute_result"
    }
   ],
   "source": [
    "torch.rand((2, 3, 4))\n",
    "# use randn for normal (gaussian distribution)\n",
    "# use rand for uniform distribution\n",
    "# other distributions:\n",
    "\n",
    "# torch.bernoulli(torch.full((2, 3, 4), 0.7))  # Probability of 1 is 0.7\n",
    "# torch.poisson(torch.full((2, 3, 4), 2.0))  # Lambda=2.0\n",
    "# exp = torch.distributions.Exponential(rate=1.0)\n",
    "# exp.sample((2, 3, 4))"
   ]
  },
  {
   "cell_type": "code",
   "execution_count": null,
   "id": "62174c90",
   "metadata": {},
   "outputs": [
    {
     "data": {
      "text/plain": [
       "tensor([[0.5772, 0.6667, 0.2986, 0.0406],\n",
       "        [0.9311, 0.4399, 0.1572, 0.0197],\n",
       "        [0.3677, 0.7049, 0.7674, 0.8278]])"
      ]
     },
     "execution_count": 22,
     "metadata": {},
     "output_type": "execute_result"
    }
   ],
   "source": [
    "torch.rand_like(Y)\n",
    "# takes the same shape as previous tensor"
   ]
  },
  {
   "cell_type": "code",
   "execution_count": 26,
   "id": "7f665906",
   "metadata": {},
   "outputs": [
    {
     "data": {
      "text/plain": [
       "tensor([[2, 3, 3],\n",
       "        [1, 1, 1],\n",
       "        [3, 4, 5]])"
      ]
     },
     "execution_count": 26,
     "metadata": {},
     "output_type": "execute_result"
    }
   ],
   "source": [
    "# Tensors can also be generated using fixed values:\n",
    "torch.tensor([[2, 3, 3], [1, 1, 1], [3, 4, 5]])"
   ]
  },
  {
   "cell_type": "markdown",
   "id": "c50375cf",
   "metadata": {},
   "source": [
    "# Indexing and slicing\n"
   ]
  },
  {
   "cell_type": "code",
   "execution_count": null,
   "id": "f7f6655b",
   "metadata": {},
   "outputs": [],
   "source": []
  }
 ],
 "metadata": {
  "kernelspec": {
   "display_name": ".venv",
   "language": "python",
   "name": "python3"
  },
  "language_info": {
   "codemirror_mode": {
    "name": "ipython",
    "version": 3
   },
   "file_extension": ".py",
   "mimetype": "text/x-python",
   "name": "python",
   "nbconvert_exporter": "python",
   "pygments_lexer": "ipython3",
   "version": "3.12.11"
  }
 },
 "nbformat": 4,
 "nbformat_minor": 5
}
